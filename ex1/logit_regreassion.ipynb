{
 "cells": [
  {
   "cell_type": "code",
   "execution_count": 17,
   "metadata": {},
   "outputs": [],
   "source": [
    "import numpy as np\n",
    "from numpy.linalg import *\n",
    "import csv\n",
    "import math"
   ]
  },
  {
   "cell_type": "code",
   "execution_count": 18,
   "metadata": {},
   "outputs": [
    {
     "name": "stdout",
     "output_type": "stream",
     "text": [
      "[['1', '青绿', '蜷缩', '浊响', '清晰', '凹陷', '硬滑', '0.697', '0.46', '是'], ['2', '乌黑', '蜷缩', '沉闷', '清晰', '凹陷', '硬滑', '0.774', '0.376', '是'], ['3', '乌黑', '蜷缩', '浊响', '清晰', '凹陷', '硬滑', '0.634', '0.264', '是'], ['4', '青绿', '蜷缩', '沉闷', '清晰', '凹陷', '硬滑', '0.608', '0.318', '是'], ['5', '浅白', '蜷缩', '浊响', '清晰', '凹陷', '硬滑', '0.556', '0.215', '是'], ['6', '青绿', '稍蜷', '浊响', '清晰', '稍凹', '软粘', '0.403', '0.237', '是'], ['7', '乌黑', '稍蜷', '浊响', '稍糊', '稍凹', '软粘', '0.481', '0.149', '是'], ['8', '乌黑', '稍蜷', '浊响', '清晰', '稍凹', '硬滑', '0.437', '0.211', '是'], ['9', '乌黑', '稍蜷', '沉闷', '稍糊', '稍凹', '硬滑', '0.666', '0.091', '否'], ['10', '青绿', '硬挺', '清脆', '清晰', '平坦', '软粘', '0.243', '0.267', '否'], ['11', '浅白', '硬挺', '清脆', '模糊', '平坦', '硬滑', '0.245', '0.057', '否'], ['12', '浅白', '蜷缩', '浊响', '模糊', '平坦', '软粘', '0.343', '0.099', '否'], ['13', '青绿', '稍蜷', '浊响', '稍糊', '凹陷', '硬滑', '0.639', '0.161', '否'], ['14', '浅白', '稍蜷', '沉闷', '稍糊', '凹陷', '硬滑', '0.657', '0.198', '否'], ['15', '乌黑', '稍蜷', '浊响', '清晰', '稍凹', '软粘', '0.36', '0.37', '否'], ['16', '浅白', '蜷缩', '浊响', '模糊', '平坦', '硬滑', '0.593', '0.042', '否'], ['17', '青绿', '蜷缩', '沉闷', '稍糊', '稍凹', '硬滑', '0.719', '0.103', '否']]\n",
      "[['1' '1' '1' '1' '1' '1' '1' '0.697' '0.46' '1']\n",
      " ['2' '0.5' '1' '0.5' '1' '1' '1' '0.774' '0.376' '1']\n",
      " ['3' '0.5' '1' '1' '1' '1' '1' '0.634' '0.264' '1']\n",
      " ['4' '1' '1' '0.5' '1' '1' '1' '0.608' '0.318' '1']\n",
      " ['5' '0' '1' '1' '1' '1' '1' '0.556' '0.215' '1']\n",
      " ['6' '1' '0.5' '1' '1' '0.5' '0' '0.403' '0.237' '1']\n",
      " ['7' '0.5' '0.5' '1' '0.5' '0.5' '0' '0.481' '0.149' '1']\n",
      " ['8' '0.5' '0.5' '1' '1' '0.5' '1' '0.437' '0.211' '1']\n",
      " ['9' '0.5' '0.5' '0.5' '0.5' '0.5' '1' '0.666' '0.091' '0']\n",
      " ['10' '1' '0' '0' '1' '0' '0' '0.243' '0.267' '0']\n",
      " ['11' '0' '0' '0' '0' '0' '1' '0.245' '0.057' '0']\n",
      " ['12' '0' '1' '1' '0' '0' '0' '0.343' '0.099' '0']\n",
      " ['13' '1' '0.5' '1' '0.5' '1' '1' '0.639' '0.161' '0']\n",
      " ['14' '0' '0.5' '0.5' '0.5' '1' '1' '0.657' '0.198' '0']\n",
      " ['15' '0.5' '0.5' '1' '1' '0.5' '0' '0.36' '0.37' '0']\n",
      " ['16' '0' '1' '1' '0' '0' '1' '0.593' '0.042' '0']\n",
      " ['17' '1' '1' '0.5' '0.5' '0.5' '1' '0.719' '0.103' '0']]\n"
     ]
    }
   ],
   "source": [
    "# 格式化数据\n",
    "file_reader = csv.reader(open(\"watermelon3.csv\",\"r\",encoding='utf-8'))\n",
    "file_writer= csv.writer(open(\"data_exe.csv\",\"w\",encoding='utf-8',newline=''))\n",
    "data_pre=[]\n",
    "for i in file_reader:\n",
    "    data_pre.append(i)\n",
    "name=data_pre[0]\n",
    "# 用一个变量记录表头后，去除data_pre中的表头\n",
    "del (data_pre[0])\n",
    "data_exe = data_pre\n",
    "print(data_exe)\n",
    "seze = {\"青绿\":1, \"乌黑\":0.5, \"浅白\":0}\n",
    "gendi = {\"蜷缩\":1, \"稍蜷\":0.5, \"硬挺\":0}\n",
    "qiaosheng = {\"浊响\":1, \"沉闷\":0.5, \"清脆\":0}\n",
    "wenli = {\"清晰\":1, \"稍糊\":0.5, \"模糊\":0}\n",
    "qibu = {\"凹陷\":1, \"稍凹\":0.5, \"平坦\":0}\n",
    "chugan = {\"硬滑\":1, \"软粘\":0}\n",
    "haogua = {\"是\":1, \"否\":0}\n",
    "# 0编号\t1色泽\t2根蒂\t3敲声\t4纹理\t5脐部\t6触感\t7密度\t8含糖率\t 9好瓜\n",
    "for i in data_exe:\n",
    "    i[1]=seze[i[1]]\n",
    "    i[2]=gendi[i[2]]\n",
    "    i[3]=qiaosheng[i[3]]\n",
    "    i[4]=wenli[i[4]]\n",
    "    i[5]=qibu[i[5]]\n",
    "    i[6]=chugan[i[6]]\n",
    "    i[9]=haogua[i[9]]\n",
    "\n",
    "# 将处理完的列表数据写入文件\n",
    "file_writer.writerow(name) # 写入表头\n",
    "file_writer.writerows(data_exe)\n",
    "data=np.asarray(data_exe)\n",
    "print(data)"
   ]
  },
  {
   "cell_type": "code",
   "execution_count": 19,
   "metadata": {},
   "outputs": [
    {
     "name": "stdout",
     "output_type": "stream",
     "text": [
      "[[0.5 0.5 0.5 0.5 0.5 0.5 0.3]\n",
      " [0.5 0.5 0.5 0.5 0.5 0.5 0.3]\n",
      " [0.5 0.5 0.5 0.5 0.5 0.5 0.3]\n",
      " [0.5 0.5 0.5 0.5 0.5 0.5 0.3]\n",
      " [0.5 0.5 0.5 0.5 0.5 0.5 0.3]\n",
      " [0.5 0.5 0.5 0.5 0.5 0.5 0.3]\n",
      " [0.5 0.5 0.5 0.5 0.5 0.5 0.3]\n",
      " [0.5 0.5 0.5 0.5 0.5 0.5 0.3]\n",
      " [0.5 0.5 0.5 0.5 0.5 0.5 0.3]\n",
      " [0.5 0.5 0.5 0.5 0.5 0.5 0.3]\n",
      " [0.5 0.5 0.5 0.5 0.5 0.5 0.3]\n",
      " [0.5 0.5 0.5 0.5 0.5 0.5 0.3]\n",
      " [0.5 0.5 0.5 0.5 0.5 0.5 0.3]\n",
      " [0.5 0.5 0.5 0.5 0.5 0.5 0.3]\n",
      " [0.5 0.5 0.5 0.5 0.5 0.5 0.3]\n",
      " [0.5 0.5 0.5 0.5 0.5 0.5 0.3]\n",
      " [0.5 0.5 0.5 0.5 0.5 0.5 0.3]]\n",
      "[[0.5 0.5 0.5 0.5 0.5 0.5]\n",
      " [0.5 0.5 0.5 0.5 0.5 0.5]\n",
      " [0.5 0.5 0.5 0.5 0.5 0.5]\n",
      " [0.5 0.5 0.5 0.5 0.5 0.5]\n",
      " [0.5 0.5 0.5 0.5 0.5 0.5]\n",
      " [0.5 0.5 0.5 0.5 0.5 0.5]\n",
      " [0.5 0.5 0.5 0.5 0.5 0.5]\n",
      " [0.5 0.5 0.5 0.5 0.5 0.5]\n",
      " [0.5 0.5 0.5 0.5 0.5 0.5]\n",
      " [0.5 0.5 0.5 0.5 0.5 0.5]\n",
      " [0.5 0.5 0.5 0.5 0.5 0.5]\n",
      " [0.5 0.5 0.5 0.5 0.5 0.5]\n",
      " [0.5 0.5 0.5 0.5 0.5 0.5]\n",
      " [0.5 0.5 0.5 0.5 0.5 0.5]\n",
      " [0.5 0.5 0.5 0.5 0.5 0.5]\n",
      " [0.5 0.5 0.5 0.5 0.5 0.5]\n",
      " [0.5 0.5 0.5 0.5 0.5 0.5]]\n"
     ]
    }
   ],
   "source": [
    "# 初始化omega，b，beta，x\n",
    "# np.astype(np.float) 转换数据类型\n",
    "x_hat=np.concatenate((data[:,1:7].astype(np.float),np.zeros((17,1),dtype=int)+1),axis=1)         # 沿轴1连接array数组, 形成hat(x) 矩阵\n",
    "y=data[:,9].astype(np.float)                                    # 标签 1*17\n",
    "# print(x_hat); print(y)\n",
    "omega = np.zeros((17,6))+0.5\n",
    "b = np.zeros((17,1))+0.3\n",
    "beta = np.concatenate((omega,b),axis=1)\n",
    "print(beta); print(beta[:,:6]) #omega"
   ]
  },
  {
   "cell_type": "code",
   "execution_count": 20,
   "metadata": {},
   "outputs": [],
   "source": [
    "# 开始计算\n",
    "def train(beta,x_hat,y,train_cnt):\n",
    "    oldbeta=beta\n",
    "    newbeta=beta\n",
    "    for j in range(train_cnt):\n",
    "        f1=0       # 一阶导数\n",
    "        f2=0       # 二阶导数\n",
    "        oldbeta=newbeta\n",
    "        for i in range(17):\n",
    "            # 计算 wx+b\n",
    "            z=np.dot(oldbeta[i,:].T,x_hat[i,:])\n",
    "            # print(z)\n",
    "            # 计算p1和p0\n",
    "            p1=math.exp(z)/(1+math.exp(z))\n",
    "            p0=1/(1+math.exp(z))\n",
    "            f1=f1-x_hat[i,:]*(y[i]-p1)\n",
    "            f2=f2+np.dot(x_hat[i,:],x_hat[i,:].T)*p1*(1-p1)\n",
    "            # print(y[i],p1,p0)\n",
    "        # print(f1,f2)\n",
    "        # print(pow(f2,-1)*f1)\n",
    "        newbeta=oldbeta-pow(f2,-1)*f1\n",
    "\n",
    "    return newbeta"
   ]
  },
  {
   "cell_type": "code",
   "execution_count": 21,
   "metadata": {},
   "outputs": [],
   "source": [
    "# 得到结果\n",
    "newbeta=train(beta,x_hat,y,1000)\n",
    "omega=newbeta[0,:6]\n",
    "b=newbeta[0,6]"
   ]
  },
  {
   "cell_type": "code",
   "execution_count": 6,
   "metadata": {},
   "outputs": [
    {
     "name": "stdout",
     "output_type": "stream",
     "text": [
      "预测是好瓜\n",
      "预测是好瓜\n",
      "预测是好瓜\n",
      "预测是好瓜\n",
      "预测是好瓜\n",
      "预测是好瓜\n",
      "预测是坏瓜\n",
      "预测是好瓜\n",
      "预测是坏瓜\n",
      "预测是坏瓜\n",
      "预测是坏瓜\n",
      "预测是坏瓜\n",
      "预测是坏瓜\n",
      "预测是坏瓜\n",
      "预测是好瓜\n",
      "预测是坏瓜\n",
      "预测是坏瓜\n",
      "0.8823529411764706\n"
     ]
    }
   ],
   "source": [
    "# 计算正确率\n",
    "flag=0\n",
    "cnt=0\n",
    "sum=0\n",
    "for i in x_hat:\n",
    "    i=i[:6]\n",
    "    if np.dot(omega,i)+b < 0:\n",
    "        flag=0\n",
    "        if(flag==y[cnt]):\n",
    "            sum=sum+1\n",
    "        print(\"预测是坏瓜\")\n",
    "    else:\n",
    "        flag=1\n",
    "        if(flag==y[cnt]):\n",
    "            sum=sum+1\n",
    "        print(\"预测是好瓜\")\n",
    "    cnt=cnt+1\n",
    "print(sum/17)"
   ]
  },
  {
   "cell_type": "code",
   "execution_count": 7,
   "metadata": {},
   "outputs": [],
   "source": [
    "# 单个样例\n",
    "# print(omega,b)\n",
    "# 0编号\t1色泽\t2根蒂\t3敲声\t4纹理\t5脐部\t6触感\t7密度\t8含糖率\t 9好瓜\n",
    "x=input(\"请输入参数属性\").split()\n",
    "print(\"输入瓜的特征数据:\",x)\n",
    "x=[seze[x[0]],gendi[x[1]],qiaosheng[x[2]],wenli[x[3]],qibu[x[4]],chugan[x[5]]]\n",
    "print(\"数据参数化:\",x)\n",
    "x=np.asarray(x)\n",
    "if np.dot(omega,x)+b < 0:\n",
    "    print(\"预测是坏瓜\")\n",
    "else:\n",
    "    print(\"预测是好瓜\")"
   ]
  },
  {
   "cell_type": "code",
   "execution_count": 52,
   "metadata": {},
   "outputs": [
    {
     "name": "stdout",
     "output_type": "stream",
     "text": [
      "[[ 1.     1.     1.     1.     1.     1.     1.     0.697  0.46   1.   ]\n",
      " [ 2.     0.5    1.     0.5    1.     1.     1.     0.774  0.376  1.   ]\n",
      " [ 3.     0.5    1.     1.     1.     1.     1.     0.634  0.264  1.   ]\n",
      " [ 4.     1.     1.     0.5    1.     1.     1.     0.608  0.318  1.   ]\n",
      " [ 5.     0.     1.     1.     1.     1.     1.     0.556  0.215  1.   ]\n",
      " [ 9.     0.5    0.5    0.5    0.5    0.5    1.     0.666  0.091  0.   ]\n",
      " [10.     1.     0.     0.     1.     0.     0.     0.243  0.267  0.   ]\n",
      " [11.     0.     0.     0.     0.     0.     1.     0.245  0.057  0.   ]\n",
      " [12.     0.     1.     1.     0.     0.     0.     0.343  0.099  0.   ]\n",
      " [13.     1.     0.5    1.     0.5    1.     1.     0.639  0.161  0.   ]\n",
      " [14.     0.     0.5    0.5    0.5    1.     1.     0.657  0.198  0.   ]]\n",
      "[[ 6.     1.     0.5    1.     1.     0.5    0.     0.403  0.237  1.   ]\n",
      " [ 7.     0.5    0.5    1.     0.5    0.5    0.     0.481  0.149  1.   ]\n",
      " [ 8.     0.5    0.5    1.     1.     0.5    1.     0.437  0.211  1.   ]\n",
      " [15.     0.5    0.5    1.     1.     0.5    0.     0.36   0.37   0.   ]\n",
      " [16.     0.     1.     1.     0.     0.     1.     0.593  0.042  0.   ]\n",
      " [17.     1.     1.     0.5    0.5    0.5    1.     0.719  0.103  0.   ]]\n"
     ]
    }
   ],
   "source": [
    "length = len(data)\n",
    "train_len = int(length*7/10)\n",
    "train_data=np.concatenate((data[0:train_len//2].astype(np.float),data[8:8+train_len-train_len//2].astype(np.float)))\n",
    "test_data=np.concatenate((data[train_len//2:8].astype(np.float),data[8+train_len-train_len//2:].astype(np.float)))\n",
    "print(train_data)\n",
    "print(test_data)"
   ]
  },
  {
   "cell_type": "code",
   "execution_count": 63,
   "metadata": {},
   "outputs": [
    {
     "name": "stdout",
     "output_type": "stream",
     "text": [
      "[[ 5.   0.   1.   1.   1.   1.   1. ]\n",
      " [12.   0.   1.   1.   0.   0.   0. ]\n",
      " [ 9.   0.5  0.5  0.5  0.5  0.5  1. ]\n",
      " [11.   0.   0.   0.   0.   0.   1. ]\n",
      " [13.   1.   0.5  1.   0.5  1.   1. ]\n",
      " [15.   0.5  0.5  1.   1.   0.5  0. ]\n",
      " [10.   1.   0.   0.   1.   0.   0. ]\n",
      " [ 4.   1.   1.   0.5  1.   1.   1. ]\n",
      " [ 6.   1.   0.5  1.   1.   0.5  0. ]\n",
      " [ 1.   1.   1.   1.   1.   1.   1. ]\n",
      " [14.   0.   0.5  0.5  0.5  1.   1. ]]\n"
     ]
    }
   ],
   "source": [
    "import sklearn\n",
    "from sklearn.model_selection import train_test_split\n",
    "x_train,x_test,y_train,y_test=train_test_split(data[:,0:7].astype(np.float),data[:,9].astype(np.float),test_size=0.3)\n",
    "x_train=np.array(x_train)\n",
    "print(x_train)"
   ]
  }
 ],
 "metadata": {
  "interpreter": {
   "hash": "e700657700ca3726e7d919db0cb1bdb00b1449743532d1443fbe37ca2c1ec67d"
  },
  "kernelspec": {
   "display_name": "Python 3.7.6 64-bit",
   "name": "python3"
  },
  "language_info": {
   "codemirror_mode": {
    "name": "ipython",
    "version": 3
   },
   "file_extension": ".py",
   "mimetype": "text/x-python",
   "name": "python",
   "nbconvert_exporter": "python",
   "pygments_lexer": "ipython3",
   "version": "3.7.6"
  },
  "orig_nbformat": 4
 },
 "nbformat": 4,
 "nbformat_minor": 2
}
