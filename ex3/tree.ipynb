{
 "cells": [
  {
   "cell_type": "code",
   "execution_count": 2,
   "metadata": {},
   "outputs": [],
   "source": [
    "import numpy as np\n",
    "import csv\n",
    "import math"
   ]
  },
  {
   "cell_type": "code",
   "execution_count": 81,
   "metadata": {},
   "outputs": [
    {
     "name": "stdout",
     "output_type": "stream",
     "text": [
      "[['1' '青绿' '蜷缩' '浊响' '清晰' '凹陷' '硬滑' '0.697' '0.46' '是']\n",
      " ['2' '乌黑' '蜷缩' '沉闷' '清晰' '凹陷' '硬滑' '0.774' '0.376' '是']\n",
      " ['3' '乌黑' '蜷缩' '浊响' '清晰' '凹陷' '硬滑' '0.634' '0.264' '是']\n",
      " ['4' '青绿' '蜷缩' '沉闷' '清晰' '凹陷' '硬滑' '0.608' '0.318' '是']\n",
      " ['5' '浅白' '蜷缩' '浊响' '清晰' '凹陷' '硬滑' '0.556' '0.215' '是']\n",
      " ['6' '青绿' '稍蜷' '浊响' '清晰' '稍凹' '软粘' '0.403' '0.237' '是']\n",
      " ['7' '乌黑' '稍蜷' '浊响' '稍糊' '稍凹' '软粘' '0.481' '0.149' '是']\n",
      " ['8' '乌黑' '稍蜷' '浊响' '清晰' '稍凹' '硬滑' '0.437' '0.211' '是']\n",
      " ['9' '乌黑' '稍蜷' '沉闷' '稍糊' '稍凹' '硬滑' '0.666' '0.091' '否']\n",
      " ['10' '青绿' '硬挺' '清脆' '清晰' '平坦' '软粘' '0.243' '0.267' '否']\n",
      " ['11' '浅白' '硬挺' '清脆' '模糊' '平坦' '硬滑' '0.245' '0.057' '否']\n",
      " ['12' '浅白' '蜷缩' '浊响' '模糊' '平坦' '软粘' '0.343' '0.099' '否']\n",
      " ['13' '青绿' '稍蜷' '浊响' '稍糊' '凹陷' '硬滑' '0.639' '0.161' '否']\n",
      " ['14' '浅白' '稍蜷' '沉闷' '稍糊' '凹陷' '硬滑' '0.657' '0.198' '否']\n",
      " ['15' '乌黑' '稍蜷' '浊响' '清晰' '稍凹' '软粘' '0.36' '0.37' '否']\n",
      " ['16' '浅白' '蜷缩' '浊响' '模糊' '平坦' '硬滑' '0.593' '0.042' '否']\n",
      " ['17' '青绿' '蜷缩' '沉闷' '稍糊' '稍凹' '硬滑' '0.719' '0.103' '否']]\n"
     ]
    }
   ],
   "source": [
    "# TODO: 改为函数\n",
    "file_reader=csv.reader(open(\"..\\ex1\\watermelon3.csv\",\"r\",encoding=\"utf-8\"))\n",
    "data=[]\n",
    "for i in file_reader:\n",
    "    data.append(i)   \n",
    "name=np.asarray(data[0])\n",
    "del data[0] \n",
    "data=np.asarray(data)\n",
    "print(data)"
   ]
  },
  {
   "cell_type": "code",
   "execution_count": 52,
   "metadata": {},
   "outputs": [
    {
     "name": "stdout",
     "output_type": "stream",
     "text": [
      "[0.5117472194119245, 0.4857553269571908]\n"
     ]
    }
   ],
   "source": [
    "# 信息熵计算\n",
    "# y=np.asarray(data)[:,9]\n",
    "def cal_ent(data):\n",
    "    length=len(data)\n",
    "    y=data[:,9]     # 找到y的位置，并选择所有的y\n",
    "    s=set(y)        # 标签的种类数量\n",
    "    cnt=0\n",
    "    ent=[]\n",
    "    for k in s:     # 根据标签分类计算\n",
    "        cnt=sum(y==k)\n",
    "        p_k=cnt/length\n",
    "        ent.append(-p_k*math.log(p_k,2))\n",
    "    return ent\n",
    "# print(sum(ent))\n",
    "print(cal_ent(data))"
   ]
  },
  {
   "cell_type": "code",
   "execution_count": 82,
   "metadata": {},
   "outputs": [
    {
     "name": "stdout",
     "output_type": "stream",
     "text": [
      "{'浅白', '乌黑', '青绿'} 3\n",
      "{'稍蜷', '蜷缩', '硬挺'} 3\n",
      "{'浊响', '清脆', '沉闷'} 3\n",
      "{'模糊', '稍糊', '清晰'} 3\n",
      "{'稍凹', '平坦', '凹陷'} 3\n",
      "{'硬滑', '软粘'} 2\n",
      "{'色泽': 0.10812516526536531, '根蒂': 0.14267495956679288, '敲声': 0.14078143361499584, '纹理': 0.3805918973682686, '脐部': 0.28915878284167895, '触感': 0.006046489176565584}\n",
      "纹理\n",
      "['\\ufeff编号' '色泽' '根蒂' '敲声' '纹理' '脐部' '触感' '密度' '含糖率' '好瓜']\n",
      "[[4]]\n"
     ]
    }
   ],
   "source": [
    "# 信息增益\n",
    "gain={}\n",
    "for i in range(1,7):\n",
    "    data=np.asarray(data)\n",
    "    # 1色泽 2根蒂 3敲声 4纹理 5脐部 6触感 9标签\n",
    "    s=set(data[:,i])\n",
    "    length=len(s)\n",
    "    print(s,length)\n",
    "    ent_data=cal_ent(data)\n",
    "    p=[]\n",
    "    ent=[]\n",
    "    for v in s:\n",
    "        pos=np.argwhere(data==v)[:,0]\n",
    "        # print(pos)\n",
    "        p.append(len(pos)/len(data))\n",
    "        D=[]\n",
    "        for k in pos:\n",
    "            D.append(data[k,:])\n",
    "        D=np.asarray(D)\n",
    "        ent_v=cal_ent(D)\n",
    "        ent.append(sum(ent_v))\n",
    "    gain[name[i]]=sum(ent_data)-np.dot(p,ent)\n",
    "print(gain)\n",
    "\n",
    "for key, value in gain.items():\n",
    "    if (value == max(gain.values())):\n",
    "        global max_s\n",
    "        max_s=key\n",
    "print(max_s)\n",
    "print(np.argwhere(name==max_s))"
   ]
  },
  {
   "cell_type": "code",
   "execution_count": 6,
   "metadata": {},
   "outputs": [
    {
     "name": "stdout",
     "output_type": "stream",
     "text": [
      "-0.0\n"
     ]
    }
   ],
   "source": [
    "print(0*math.log(0.1))"
   ]
  }
 ],
 "metadata": {
  "interpreter": {
   "hash": "f94055e97f51ddfa7d9cd102fb05edcbeb6bf63bb7fd3b128357cbdb378bd053"
  },
  "kernelspec": {
   "display_name": "Python 3.7.5 64-bit ('tensorflow': conda)",
   "language": "python",
   "name": "python3"
  },
  "language_info": {
   "codemirror_mode": {
    "name": "ipython",
    "version": 3
   },
   "file_extension": ".py",
   "mimetype": "text/x-python",
   "name": "python",
   "nbconvert_exporter": "python",
   "pygments_lexer": "ipython3",
   "version": "3.7.5"
  },
  "orig_nbformat": 4
 },
 "nbformat": 4,
 "nbformat_minor": 2
}
